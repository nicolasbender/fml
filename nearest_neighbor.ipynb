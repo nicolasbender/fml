{
  "nbformat": 4,
  "nbformat_minor": 0,
  "metadata": {
    "colab": {
      "name": "nearest-neighbor.ipynb",
      "provenance": [],
      "authorship_tag": "ABX9TyPyoDb8OWIURmarFzgDKRJw"
    },
    "kernelspec": {
      "name": "python3",
      "display_name": "Python 3"
    },
    "language_info": {
      "name": "python"
    }
  },
  "cells": [
    {
      "cell_type": "code",
      "metadata": {
        "id": "0hZUeusXUjns"
      },
      "source": [
        "import numpy as np\n",
        "import pandas as pd\n",
        "import matplotlib.pyplot as plt\n",
        "from sklearn.datasets import load_digits"
      ],
      "execution_count": 110,
      "outputs": []
    },
    {
      "cell_type": "code",
      "metadata": {
        "colab": {
          "base_uri": "https://localhost:8080/"
        },
        "id": "vz70gjj6UEHw",
        "outputId": "82d5844c-cd32-427c-ca89-f94446714f2e"
      },
      "source": [
        "digits = load_digits()\n",
        "print(digits.keys())\n",
        "data = digits[\"data\"]\n",
        "images = digits[\"images\"]\n",
        "target = digits[\"target\"]\n",
        "target_names = digits[\"target_names\"]\n",
        "print(data.dtype)"
      ],
      "execution_count": 111,
      "outputs": [
        {
          "output_type": "stream",
          "name": "stdout",
          "text": [
            "dict_keys(['data', 'target', 'frame', 'feature_names', 'target_names', 'images', 'DESCR'])\n",
            "float64\n"
          ]
        }
      ]
    },
    {
      "cell_type": "markdown",
      "metadata": {
        "id": "vYFpXeEOXohl"
      },
      "source": [
        "# 1.1 Exploring the Data"
      ]
    },
    {
      "cell_type": "code",
      "metadata": {
        "colab": {
          "base_uri": "https://localhost:8080/"
        },
        "id": "LCugXkuWURWb",
        "outputId": "1f09cccc-6ad3-444c-d554-46c2daad677d"
      },
      "source": [
        "print(f\"The shape of the image is {images[3].shape}\")"
      ],
      "execution_count": 112,
      "outputs": [
        {
          "output_type": "stream",
          "name": "stdout",
          "text": [
            "The shape of the image is (8, 8)\n"
          ]
        }
      ]
    },
    {
      "cell_type": "code",
      "metadata": {
        "colab": {
          "base_uri": "https://localhost:8080/",
          "height": 545
        },
        "id": "a0RcAYWgVEzz",
        "outputId": "2d5272f1-0484-49c5-ae5e-64a9af6c42b8"
      },
      "source": [
        "import numpy as np\n",
        "import matplotlib.pyplot as plt\n",
        "img = images[3]\n",
        "assert 2 == len(img.shape)\n",
        "plt.figure()\n",
        "plt.gray()\n",
        "plt.title(\"nearest\")\n",
        "plt.imshow(img, interpolation=\"nearest\")\n",
        "plt.show()\n",
        "plt.figure()\n",
        "plt.gray()\n",
        "plt.title(\"bicubic\")\n",
        "plt.imshow(img, interpolation=\"bicubic\")\n",
        "plt.show()"
      ],
      "execution_count": 113,
      "outputs": [
        {
          "output_type": "display_data",
          "data": {
            "image/png": "[encoded data removed]",
            "text/plain": [
              "<Figure size 432x288 with 1 Axes>"
            ]
          },
          "metadata": {
            "needs_background": "light"
          }
        },
        {
          "output_type": "display_data",
          "data": {
            "image/png": "[encoded data removed]",
            "text/plain": [
              "<Figure size 432x288 with 1 Axes>"
            ]
          },
          "metadata": {
            "needs_background": "light"
          }
        }
      ]
    },
    {
      "cell_type": "code",
      "metadata": {
        "id": "dQYt4TZuW5rQ"
      },
      "source": [
        "from sklearn import model_selection\n",
        "X_all = data\n",
        "y_all = target\n",
        "X_train, X_test, y_train, y_test = model_selection.train_test_split(digits.data, digits.target, test_size = 0.4, random_state = 0)"
      ],
      "execution_count": 114,
      "outputs": []
    },
    {
      "cell_type": "markdown",
      "metadata": {
        "id": "BWENasrgXi7o"
      },
      "source": [
        "# 1.2 Distance function using loops"
      ]
    },
    {
      "cell_type": "code",
      "metadata": {
        "colab": {
          "base_uri": "https://localhost:8080/"
        },
        "id": "Fq9w0WM0Xgnk",
        "outputId": "3efbcd8f-df71-4459-cec9-b1ead9f5c41f"
      },
      "source": [
        "def dist_loop(training, test):\n",
        "  n, _ = training.shape\n",
        "  m, _ = test.shape\n",
        "\n",
        "  distance_matrix = np.empty((n,m))\n",
        "\n",
        "  for i, x_train in enumerate(training):\n",
        "    for j, x_test in enumerate(test):\n",
        "      distance_matrix[i, j] = np.linalg.norm(x_train - x_test)\n",
        "  return distance_matrix\n",
        "\n",
        "distances = dist_loop(X_train, X_test)\n",
        "print(distances)\n",
        "print(distances.shape)"
      ],
      "execution_count": 115,
      "outputs": [
        {
          "output_type": "stream",
          "name": "stdout",
          "text": [
            "[[55.67764363 53.12249994 56.56854249 ... 54.91812087 50.76416059\n",
            "  46.87216658]\n",
            " [47.51841748 45.65084884 48.72371086 ... 45.475268   52.10566188\n",
            "  40.18706259]\n",
            " [45.54119015 53.72150407 45.07771068 ... 44.96665431 50.8625599\n",
            "  41.53311931]\n",
            " ...\n",
            " [46.         45.54119015 46.28174586 ... 51.32250968 44.62062303\n",
            "  48.61069841]\n",
            " [44.98888752 49.07137659 53.55371136 ... 57.91372894 27.80287755\n",
            "  40.28647416]\n",
            " [44.77722635 41.07310556 40.31128874 ... 43.78355856 52.\n",
            "  44.22668877]]\n",
            "(1078, 719)\n"
          ]
        }
      ]
    },
    {
      "cell_type": "markdown",
      "metadata": {
        "id": "54BRkprJbryx"
      },
      "source": [
        "# 1.3 Distance function computation using vectorization"
      ]
    },
    {
      "cell_type": "code",
      "metadata": {
        "colab": {
          "base_uri": "https://localhost:8080/"
        },
        "id": "5fHWhp4TbpBh",
        "outputId": "ae665cfe-92b9-4674-f5d8-7067b872acde"
      },
      "source": [
        "def dist_vec(training, test):\n",
        "  n, _ = training.shape\n",
        "  m, _ = test.shape\n",
        "\n",
        "  distance_matrix = np.empty((n,m))\n",
        "\n",
        "  training_rollout = np.repeat(training, m, axis=0) # rollout every training set m times\n",
        "  test_rollout = np.concatenate([test]*n) # rollout complete test set n times\n",
        "\n",
        "  distance_matrix = np.linalg.norm(training_rollout - test_rollout, axis=1)\n",
        "  distance_matrix = np.reshape(distance_matrix, (n, m))\n",
        "  return distance_matrix\n",
        "\n",
        "distances = dist_vec(X_train, X_test)\n",
        "print(distances)\n",
        "print(distances.shape)"
      ],
      "execution_count": 116,
      "outputs": [
        {
          "output_type": "stream",
          "name": "stdout",
          "text": [
            "[[55.67764363 53.12249994 56.56854249 ... 54.91812087 50.76416059\n",
            "  46.87216658]\n",
            " [47.51841748 45.65084884 48.72371086 ... 45.475268   52.10566188\n",
            "  40.18706259]\n",
            " [45.54119015 53.72150407 45.07771068 ... 44.96665431 50.8625599\n",
            "  41.53311931]\n",
            " ...\n",
            " [46.         45.54119015 46.28174586 ... 51.32250968 44.62062303\n",
            "  48.61069841]\n",
            " [44.98888752 49.07137659 53.55371136 ... 57.91372894 27.80287755\n",
            "  40.28647416]\n",
            " [44.77722635 41.07310556 40.31128874 ... 43.78355856 52.\n",
            "  44.22668877]]\n",
            "(1078, 719)\n"
          ]
        }
      ]
    },
    {
      "cell_type": "markdown",
      "metadata": {
        "id": "5SS1JJdSdPIc"
      },
      "source": [
        "Here, we tested whether the numpy function 'meshgrid' provides a faster alternative for associating all datasets of training and test."
      ]
    },
    {
      "cell_type": "code",
      "metadata": {
        "colab": {
          "base_uri": "https://localhost:8080/"
        },
        "id": "J-k79BoC4l8Y",
        "outputId": "328c3442-31a5-4917-b679-7b0988296239"
      },
      "source": [
        "def dist_vec_meshgrid(training, test):\n",
        "  n, _ = training.shape\n",
        "  m, _ = test.shape\n",
        "\n",
        "  x, y = np.meshgrid(range(n), range(m), indexing='ij') # build n to m relation between training and test data\n",
        "\n",
        "  distance_matrix = np.linalg.norm(training[x.flatten()] - test[y.flatten()], axis=1)\n",
        "  distance_matrix = np.reshape(distance_matrix, (n, m))\n",
        "  return distance_matrix\n",
        "\n",
        "distances = dist_vec_meshgrid(X_train, X_test)\n",
        "print(distances)"
      ],
      "execution_count": 117,
      "outputs": [
        {
          "output_type": "stream",
          "name": "stdout",
          "text": [
            "[[55.67764363 53.12249994 56.56854249 ... 54.91812087 50.76416059\n",
            "  46.87216658]\n",
            " [47.51841748 45.65084884 48.72371086 ... 45.475268   52.10566188\n",
            "  40.18706259]\n",
            " [45.54119015 53.72150407 45.07771068 ... 44.96665431 50.8625599\n",
            "  41.53311931]\n",
            " ...\n",
            " [46.         45.54119015 46.28174586 ... 51.32250968 44.62062303\n",
            "  48.61069841]\n",
            " [44.98888752 49.07137659 53.55371136 ... 57.91372894 27.80287755\n",
            "  40.28647416]\n",
            " [44.77722635 41.07310556 40.31128874 ... 43.78355856 52.\n",
            "  44.22668877]]\n"
          ]
        }
      ]
    },
    {
      "cell_type": "code",
      "metadata": {
        "colab": {
          "base_uri": "https://localhost:8080/"
        },
        "id": "KN_MDAyyrhLJ",
        "outputId": "05ceb4e2-44dc-41c7-a224-c6ea499e5005"
      },
      "source": [
        "%timeit -r 2 -n 2 dist_loop(X_train, X_test)\n",
        "%timeit -r 2 -n 2 dist_vec(X_train, X_test)\n",
        "%timeit -r 2 -n 2 dist_vec_meshgrid(X_train, X_test)"
      ],
      "execution_count": 118,
      "outputs": [
        {
          "output_type": "stream",
          "name": "stdout",
          "text": [
            "2 loops, best of 2: 5.81 s per loop\n",
            "2 loops, best of 2: 322 ms per loop\n",
            "2 loops, best of 2: 289 ms per loop\n"
          ]
        }
      ]
    },
    {
      "cell_type": "markdown",
      "metadata": {
        "id": "jhIuv-00pZqJ"
      },
      "source": [
        "# 1.4 Implement the k-nearest neighbor classifier"
      ]
    },
    {
      "cell_type": "code",
      "metadata": {
        "colab": {
          "base_uri": "https://localhost:8080/"
        },
        "id": "Q1EhP_IZpdPO",
        "outputId": "04dbaed4-bcbb-49e0-a064-c1d38c9eee20"
      },
      "source": [
        "def k_nearest_neighbor(k, X_train, X_test, y_train):\n",
        "  distances = dist_vec(X_train, X_test)\n",
        "  k_nearest_indices = np.argpartition(distances, k, axis=0)[0:k]\n",
        "  return k_nearest_indices\n",
        "output = k_nearest_neighbor(3, X_train, X_test, y_train)\n",
        "print(output)\n",
        "print(output.shape)"
      ],
      "execution_count": 119,
      "outputs": [
        {
          "output_type": "stream",
          "name": "stdout",
          "text": [
            "[[919 654 105 ... 317   7 582]\n",
            " [174 870 636 ... 515 470 214]\n",
            " [683 521 191 ... 723 718 406]]\n",
            "(3, 719)\n"
          ]
        }
      ]
    },
    {
      "cell_type": "code",
      "metadata": {
        "id": "eXqaKzq2mS0v"
      },
      "source": [
        "def filter_out_3_and_9():\n",
        "  filter_3_idx = np.where(target==3)[0]\n",
        "  filter_9_idx = np.where(target==9)[0]\n",
        "  filtered_idx = np.sort(np.concatenate((filter_3_idx, filter_9_idx)))\n",
        "  x_filtered = data[filtered_idx]\n",
        "  y_filtered = target[filtered_idx]\n",
        "  return model_selection.train_test_split(x_filtered, y_filtered, test_size = 0.4, random_state = 0)\n",
        "X_train_39, X_test_39, y_train_39, y_test_39 = filter_out_3_and_9()"
      ],
      "execution_count": 120,
      "outputs": []
    },
    {
      "cell_type": "code",
      "metadata": {
        "colab": {
          "base_uri": "https://localhost:8080/",
          "height": 295
        },
        "id": "7ZR-5mmT3Y52",
        "outputId": "2760a117-6581-4ab6-cf1c-7e480178f59f"
      },
      "source": [
        "def k_nearest_neighbour(k, x_train, x_test, y_train):\n",
        "  m,_ = x_test.shape\n",
        "  y_pred = np.zeros((m), dtype=int)\n",
        "  distances = dist_vec(x_train, x_test)\n",
        "  k_nearest_idx = np.argpartition(distances, k, axis=0)[0:k]\n",
        "  y_values = y_train[k_nearest_idx]\n",
        "  for idx in range(m):\n",
        "    y_pred[idx] = np.argmax(np.bincount(y_values[:, idx]))\n",
        "  return y_pred\n",
        "\n",
        "ks = [1, 3, 5, 9, 17, 33]\n",
        "y_pred = np.zeros((len(ks),X_test_39.shape[0]))\n",
        "for i, k in enumerate(ks):\n",
        "  y_pred[i] = k_nearest_neighbour(k, X_train_39, X_test_39, y_train_39)\n",
        "y_true_labels = [y_test_39]*(len(ks))\n",
        "errors = np.sum(y_true_labels != y_pred, axis=1)\n",
        "error_rate = errors / X_test_39.shape[0]\n",
        "plt.plot(ks, error_rate)\n",
        "plt.title(\"Error rate depending on k-nearest neighbors\")\n",
        "plt.xlabel(\"k\")\n",
        "plt.ylabel(\"error rate\")\n",
        "plt.show()"
      ],
      "execution_count": 121,
      "outputs": [
        {
          "output_type": "display_data",
          "data": {
            "image/png": "[encoded data removed]",
            "text/plain": [
              "<Figure size 432x288 with 1 Axes>"
            ]
          },
          "metadata": {
            "needs_background": "light"
          }
        }
      ]
    },
    {
      "cell_type": "markdown",
      "metadata": {
        "id": "nBK07saCvgRm"
      },
      "source": [
        "We observe that with greater k the error rate gets higher. This may be caused by errors arising with greater distance when looking at more neighbors. This increases the chance to include more datasets with the wrong label. The best result is achieved with $k=5$."
      ]
    },
    {
      "cell_type": "markdown",
      "metadata": {
        "id": "zexZVn132p9y"
      },
      "source": [
        "# 2 Cross-validation"
      ]
    },
    {
      "cell_type": "code",
      "metadata": {
        "colab": {
          "base_uri": "https://localhost:8080/",
          "height": 202
        },
        "id": "BOD-pugp2kR6",
        "outputId": "8aeb5dac-083c-4c4d-b45a-954f8fe73852"
      },
      "source": [
        "def split_folds(data, target, L):\n",
        "  return 0,0\n",
        "\n",
        "X_folds, y_folds = split_folds(data, target, L)"
      ],
      "execution_count": 122,
      "outputs": [
        {
          "output_type": "error",
          "ename": "NameError",
          "evalue": "ignored",
          "traceback": [
            "\u001b[0;31m---------------------------------------------------------------------------\u001b[0m",
            "\u001b[0;31mNameError\u001b[0m                                 Traceback (most recent call last)",
            "\u001b[0;32m<ipython-input-122-b29acff55d1a>\u001b[0m in \u001b[0;36m<module>\u001b[0;34m()\u001b[0m\n\u001b[1;32m      2\u001b[0m   \u001b[0;32mreturn\u001b[0m \u001b[0;36m0\u001b[0m\u001b[0;34m,\u001b[0m\u001b[0;36m0\u001b[0m\u001b[0;34m\u001b[0m\u001b[0;34m\u001b[0m\u001b[0m\n\u001b[1;32m      3\u001b[0m \u001b[0;34m\u001b[0m\u001b[0m\n\u001b[0;32m----> 4\u001b[0;31m \u001b[0mX_folds\u001b[0m\u001b[0;34m,\u001b[0m \u001b[0my_folds\u001b[0m \u001b[0;34m=\u001b[0m \u001b[0msplit_folds\u001b[0m\u001b[0;34m(\u001b[0m\u001b[0mdata\u001b[0m\u001b[0;34m,\u001b[0m \u001b[0mtarget\u001b[0m\u001b[0;34m,\u001b[0m \u001b[0mL\u001b[0m\u001b[0;34m)\u001b[0m\u001b[0;34m\u001b[0m\u001b[0;34m\u001b[0m\u001b[0m\n\u001b[0m",
            "\u001b[0;31mNameError\u001b[0m: name 'L' is not defined"
          ]
        }
      ]
    }
  ]
}